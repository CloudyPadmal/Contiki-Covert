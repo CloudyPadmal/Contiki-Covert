{
 "cells": [
  {
   "cell_type": "markdown",
   "source": [
    "# Covert Analysis\n",
    "\n",
    "### Import essential libraries\n",
    "Let's import matplotlib to perform plot operations and numpy to do calculations"
   ],
   "metadata": {
    "collapsed": false
   }
  },
  {
   "cell_type": "code",
   "execution_count": 1,
   "metadata": {
    "collapsed": true
   },
   "outputs": [],
   "source": [
    "import matplotlib.pyplot as plt\n",
    "import numpy as np"
   ]
  },
  {
   "cell_type": "markdown",
   "source": [
    "Plot should capture and display as much details as possible. Therefore, we need to set the plot space wider."
   ],
   "metadata": {
    "collapsed": false
   }
  },
  {
   "cell_type": "code",
   "execution_count": 17,
   "outputs": [],
   "source": [
    "plt.rcParams[\"figure.figsize\"] = (20, 8)\n",
    "props = dict(boxstyle='round', facecolor='#cccccc', alpha=0.5)"
   ],
   "metadata": {
    "collapsed": false
   }
  },
  {
   "cell_type": "markdown",
   "source": [
    "### Plot title parameters"
   ],
   "metadata": {
    "collapsed": false
   }
  },
  {
   "cell_type": "code",
   "execution_count": 13,
   "outputs": [],
   "source": [
    "CHANNEL = int(input(\"CHANNEL: \") or \"25\")\n",
    "POWER_L = int(input(\"POWER: \") or \"0\")\n",
    "RATE_P = int(input(\"RATE: \") or \"50\")\n",
    "PACKETS = int(input(\"PACKETS: \") or \"250\")\n",
    "SHW_PLT = bool(input(\"SHOW PLOT? \") or False)\n",
    "\n",
    "ttl = 'RSSI Measurements {Total Packet Count: ' \\\n",
    "      + str(PACKETS) + '; Transmit Power: ' \\\n",
    "      + str(POWER_L) + ' dBm; Packet Rate: ' \\\n",
    "      + str(RATE_P) + ' ms; Channel: ' + str(int(CHANNEL)) + '}'"
   ],
   "metadata": {
    "collapsed": false
   }
  },
  {
   "cell_type": "markdown",
   "source": [
    "### Constants"
   ],
   "metadata": {
    "collapsed": false
   }
  },
  {
   "cell_type": "code",
   "execution_count": 15,
   "outputs": [],
   "source": [
    "MIN_RSSI = -100\n",
    "MAX_RSSI = -10\n",
    "BIN_PORTION = PACKETS / 10\n",
    "BINS = [i * BIN_PORTION for i in range(11)]\n",
    "\n",
    "L_WIDTH = 1"
   ],
   "metadata": {
    "collapsed": false
   }
  },
  {
   "cell_type": "markdown",
   "source": [
    "## Defining nodes\n",
    "\n",
    "In this section, we define the addresses of transmitting nodes. Make sure they match with the output from `Contiki-ng` serial log output."
   ],
   "metadata": {
    "collapsed": false
   }
  },
  {
   "cell_type": "code",
   "execution_count": 9,
   "outputs": [],
   "source": [
    "TX_NODE = '5b7f.b713.0074.1200'"
   ],
   "metadata": {
    "collapsed": false
   }
  },
  {
   "cell_type": "markdown",
   "source": [
    "### Extract packet data\n",
    "\n",
    "This method will take a file of packet readings as input and go through each line. If any line has the IP address defined above, it will fill in the points array with the corresponding RSSI value and another array with sequence number\n",
    "\n",
    "There will be two lists returned at last, with RSSI readings and sequence.\n",
    "\n",
    "Sample readline will look like `[INFO: EavesDr   ] Received 0 from 0f2a.7d13.0074.1200 [RSSI: -60 | LQI: 107]`\n"
   ],
   "metadata": {
    "collapsed": false
   }
  },
  {
   "cell_type": "code",
   "execution_count": 10,
   "outputs": [],
   "source": [
    "def extract_packet_data(filename):\n",
    "    file_node_lines = filename.readlines()\n",
    "    node_points = []\n",
    "    node_seq = []\n",
    "\n",
    "    for line in file_node_lines:\n",
    "        if TX_NODE in line:\n",
    "            try:\n",
    "                line_as_list = line.split(' ')\n",
    "                rssi = int(line_as_list[-4])\n",
    "                seq = int(line_as_list[-8])\n",
    "                node_points.append(rssi)\n",
    "                node_seq.append(seq)\n",
    "            except:\n",
    "                continue\n",
    "\n",
    "    return node_points, node_seq"
   ],
   "metadata": {
    "collapsed": false
   }
  },
  {
   "cell_type": "markdown",
   "source": [
    "### Process packet data\n",
    "Now we can open the log files with readings and process the data. There are usually 4 eavesdroppers and one in-body receiver in the picture. Therefore we will be parsing 5 files."
   ],
   "metadata": {
    "collapsed": false
   }
  },
  {
   "cell_type": "code",
   "execution_count": 11,
   "outputs": [
    {
     "name": "stdout",
     "output_type": "stream",
     "text": [
      "Parsing Eaves-1.txt\n",
      "Parsing Eaves-2.txt\n",
      "Parsing Eaves-3.txt\n",
      "Parsing Eaves-4.txt\n",
      "Parsing Receive.txt\n"
     ]
    }
   ],
   "source": [
    "try:\n",
    "    with open('Eaves-1.txt', 'r') as F:\n",
    "        (P1_E1, S_P1_E1) = extract_packet_data(F)\n",
    "except FileNotFoundError:\n",
    "    print(\"File not found\")\n",
    "\n",
    "try:\n",
    "    with open('Eaves-2.txt', 'r') as F:\n",
    "        (P1_E2, S_P1_E2) = extract_packet_data(F)\n",
    "except FileNotFoundError:\n",
    "    print(\"File not found\")\n",
    "\n",
    "try:\n",
    "    with open('Eaves-3.txt', 'r') as F:\n",
    "        (P1_E3, S_P1_E3) = extract_packet_data(F)\n",
    "except FileNotFoundError:\n",
    "    print(\"File not found\")\n",
    "\n",
    "try:\n",
    "    with open('Eaves-4.txt', 'r') as F:\n",
    "        (P1_E4, S_P1_E4) = extract_packet_data(F)\n",
    "except FileNotFoundError:\n",
    "    print(\"File not found\")\n",
    "\n",
    "try:\n",
    "    with open('Receive.txt', 'r') as F:\n",
    "        (P1_P2, S_P1_P2) = extract_packet_data(F)\n",
    "except FileNotFoundError:\n",
    "    print(\"File not found\")"
   ],
   "metadata": {
    "collapsed": false
   }
  },
  {
   "cell_type": "markdown",
   "source": [
    "Combine the parsed data into two lists to plot."
   ],
   "metadata": {
    "collapsed": false
   }
  },
  {
   "cell_type": "code",
   "execution_count": 30,
   "outputs": [],
   "source": [
    "PacketList = [P1_E1, P1_E2, P1_E3, P1_E4, P1_P2]\n",
    "SequenceList = [S_P1_E1, S_P1_E2, S_P1_E3, S_P1_E4, S_P1_P2]"
   ],
   "metadata": {
    "collapsed": false
   }
  },
  {
   "cell_type": "markdown",
   "source": [
    "## Plot\n",
    "We will plot two types of data graphs.\n",
    "\n",
    "- Raw RSSI readings (in dBm) for each sequence point\n",
    "- Reception ratio to identify if we received all the data points\n",
    "\n",
    "However, in a sniffing mode where we do not have a sequence number, the second graph would not make a sense."
   ],
   "metadata": {
    "collapsed": false
   }
  },
  {
   "cell_type": "code",
   "execution_count": 31,
   "outputs": [
    {
     "data": {
      "text/plain": "<Figure size 1440x576 with 10 Axes>",
      "image/png": "[encoded data removed]"
     },
     "metadata": {
      "needs_background": "light"
     },
     "output_type": "display_data"
    }
   ],
   "source": [
    "T_COUNT = 5\n",
    "f_handle, ((e1, e2, e3, e4, r1), (f1, f2, f3, f4, f5)) = plt.subplots(2, T_COUNT, gridspec_kw={'height_ratios': [2.5, 1]})\n",
    "f_handle.suptitle(ttl, fontweight='bold')\n",
    "\n",
    "eAxes = [e1, e2, e3, e4, r1]\n",
    "fAxes = [f1, f2, f3, f4, f5]\n",
    "\n",
    "for f in range(T_COUNT):\n",
    "    title = 'Eaves ' + str(f + 1)\n",
    "    if f == 4: title = 'In-body'\n",
    "\n",
    "    eAx = eAxes[f]\n",
    "    prr = 'PRR:' + str(round((len(PacketList[f]) / PACKETS), 3) * 100)[:4] + '%'\n",
    "    eAx.plot(SequenceList[f], PacketList[f], label='from transmitter', linewidth=L_WIDTH * 2)\n",
    "    eAx.plot([np.mean(PacketList[f]) for _ in range(PACKETS)], label='rssi mean', linewidth=L_WIDTH, color=[0,0,0])\n",
    "    eAx.set_xlim(0, PACKETS)\n",
    "    eAx.set_ylim(MIN_RSSI, MAX_RSSI)\n",
    "    eAx.set_title(title)\n",
    "    eAx.set_xlabel('Sequence number')\n",
    "    if f == 0: eAx.set_ylabel('RSSI (dBm)')\n",
    "    eAx.text(0.4, 0.95, prr, transform=eAx.transAxes, fontsize=8, verticalalignment='center', bbox=props)\n",
    "    eAx.grid(True, axis='y', alpha=0.35)\n",
    "\n",
    "    fAxes[f].hist(SequenceList[f], BINS, label='count', alpha=0.7, rwidth=0.9)\n",
    "    if f == 0: fAxes[f].set_ylabel(\"Count\")\n",
    "    fAxes[f].set_xlabel(\"Sequence Range\")\n",
    "    fAxes[f].grid(True, axis='y', alpha=0.35)\n",
    "\n",
    "plt.savefig('results.png', dpi=300)\n",
    "\n",
    "if SHW_PLT:\n",
    "    plt.show()"
   ],
   "metadata": {
    "collapsed": false
   }
  },
  {
   "cell_type": "code",
   "execution_count": 28,
   "outputs": [],
   "source": [
    "NOTES = input(\"Notes: \")\n",
    "with open(\"Notes.txt\", 'a') as F:\n",
    "    F.write(NOTES)"
   ],
   "metadata": {
    "collapsed": false
   }
  }
 ],
 "metadata": {
  "kernelspec": {
   "display_name": "Python 3",
   "language": "python",
   "name": "python3"
  },
  "language_info": {
   "codemirror_mode": {
    "name": "ipython",
    "version": 2
   },
   "file_extension": ".py",
   "mimetype": "text/x-python",
   "name": "python",
   "nbconvert_exporter": "python",
   "pygments_lexer": "ipython2",
   "version": "2.7.6"
  }
 },
 "nbformat": 4,
 "nbformat_minor": 0
}
